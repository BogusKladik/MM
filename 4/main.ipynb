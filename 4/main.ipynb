{
 "cells": [
  {
   "cell_type": "code",
   "execution_count": 1,
   "metadata": {},
   "outputs": [],
   "source": [
    "from condition import *\n",
    "from methods.monte_carlo import monte_carlo_v1, monte_carlo_v2\n",
    "from showing import show_function_with_interval\n",
    "from methods.trapezium import trapezium\n",
    "from accuracy import accuracy\n",
    "import numpy as np"
   ]
  },
  {
   "cell_type": "code",
   "execution_count": 2,
   "metadata": {},
   "outputs": [],
   "source": [
    "RELATIVE_ERROR = 0.01"
   ]
  },
  {
   "cell_type": "code",
   "execution_count": 3,
   "metadata": {},
   "outputs": [
    {
     "data": {
      "image/png": "[encoded data removed]",
      "text/plain": [
       "<Figure size 640x480 with 1 Axes>"
      ]
     },
     "metadata": {},
     "output_type": "display_data"
    }
   ],
   "source": [
    "show_function_with_interval(function(), interval())"
   ]
  },
  {
   "cell_type": "code",
   "execution_count": 4,
   "metadata": {},
   "outputs": [
    {
     "name": "stdout",
     "output_type": "stream",
     "text": [
      "Первообразная от x^2 = x^3/3\n",
      "Определенный интеграл в интервале от 0.3 до 3 = 8.991\n"
     ]
    }
   ],
   "source": [
    "print_solution()"
   ]
  },
  {
   "cell_type": "code",
   "execution_count": 5,
   "metadata": {},
   "outputs": [
    {
     "name": "stdout",
     "output_type": "stream",
     "text": [
      "Значение интеграла методом трапеций с относительной ошибкой 1.0% = 1.857289738970872\n",
      "Колличество узлов = 72\n"
     ]
    }
   ],
   "source": [
    "trapezium_integral = accuracy(lambda n: trapezium(function(), interval(), n), solution(), RELATIVE_ERROR)\n",
    "\n",
    "print(f\"Значение интеграла методом трапеций с относительной ошибкой {RELATIVE_ERROR * 100}% = {trapezium_integral[0]}\\nКолличество узлов = {trapezium_integral[1] - 1}\")"
   ]
  },
  {
   "cell_type": "code",
   "execution_count": 7,
   "metadata": {},
   "outputs": [
    {
     "name": "stdout",
     "output_type": "stream",
     "text": [
      "Значение интеграла методом монте карло версии 1 с относительной ошибкой 1.0% = 1.8345559594509797\n",
      "Колличество узлов = 63\n",
      "\n",
      "\n",
      "Unexpected exception formatting exception. Falling back to standard exception\n"
     ]
    },
    {
     "name": "stderr",
     "output_type": "stream",
     "text": [
      "Traceback (most recent call last):\n",
      "  File \"C:\\Users\\Bogus_Kladik.NEW-PC\\AppData\\Roaming\\Python\\Python311\\site-packages\\IPython\\core\\interactiveshell.py\", line 3433, in run_code\n",
      "    exec(code_obj, self.user_global_ns, self.user_ns)\n",
      "  File \"C:\\Users\\Bogus_Kladik.NEW-PC\\AppData\\Local\\Temp\\ipykernel_10432\\2187357298.py\", line 7, in <module>\n",
      "    monte_carlo_v2_integral = accuracy(lambda n: monte_carlo_v2(function(), interval(), n), solution(), RELATIVE_ERROR)\n",
      "                              ^^^^^^^^^^^^^^^^^^^^^^^^^^^^^^^^^^^^^^^^^^^^^^^^^^^^^^^^^^^^^^^^^^^^^^^^^^^^^^^^^^^^^^^^^\n",
      "  File \"c:\\Projects\\Python\\MM\\4\\main\\accuracy.py\", line 9, in accuracy\n",
      "    current = function_integral(n)\n",
      "              ^^^^^^^^^^^^^^^^^^^^\n",
      "  File \"C:\\Users\\Bogus_Kladik.NEW-PC\\AppData\\Local\\Temp\\ipykernel_10432\\2187357298.py\", line 7, in <lambda>\n",
      "    monte_carlo_v2_integral = accuracy(lambda n: monte_carlo_v2(function(), interval(), n), solution(), RELATIVE_ERROR)\n",
      "                                                 ^^^^^^^^^^^^^^^^^^^^^^^^^^^^^^^^^^^^^^^^^\n",
      "  File \"c:\\Projects\\Python\\MM\\4\\main\\methods\\monte_carlo.py\", line -1, in monte_carlo_v2\n",
      "KeyboardInterrupt\n",
      "\n",
      "During handling of the above exception, another exception occurred:\n",
      "\n",
      "Traceback (most recent call last):\n",
      "  File \"C:\\Users\\Bogus_Kladik.NEW-PC\\AppData\\Roaming\\Python\\Python311\\site-packages\\IPython\\core\\interactiveshell.py\", line 2052, in showtraceback\n",
      "    stb = self.InteractiveTB.structured_traceback(\n",
      "          ^^^^^^^^^^^^^^^^^^^^^^^^^^^^^^^^^^^^^^^^\n",
      "  File \"C:\\Users\\Bogus_Kladik.NEW-PC\\AppData\\Roaming\\Python\\Python311\\site-packages\\IPython\\core\\ultratb.py\", line 1112, in structured_traceback\n",
      "    return FormattedTB.structured_traceback(\n",
      "           ^^^^^^^^^^^^^^^^^^^^^^^^^^^^^^^^^\n",
      "  File \"C:\\Users\\Bogus_Kladik.NEW-PC\\AppData\\Roaming\\Python\\Python311\\site-packages\\IPython\\core\\ultratb.py\", line 1006, in structured_traceback\n",
      "    return VerboseTB.structured_traceback(\n",
      "           ^^^^^^^^^^^^^^^^^^^^^^^^^^^^^^^\n",
      "  File \"C:\\Users\\Bogus_Kladik.NEW-PC\\AppData\\Roaming\\Python\\Python311\\site-packages\\IPython\\core\\ultratb.py\", line 859, in structured_traceback\n",
      "    formatted_exception = self.format_exception_as_a_whole(etype, evalue, etb, number_of_lines_of_context,\n",
      "                          ^^^^^^^^^^^^^^^^^^^^^^^^^^^^^^^^^^^^^^^^^^^^^^^^^^^^^^^^^^^^^^^^^^^^^^^^^^^^^^^^\n",
      "  File \"C:\\Users\\Bogus_Kladik.NEW-PC\\AppData\\Roaming\\Python\\Python311\\site-packages\\IPython\\core\\ultratb.py\", line 812, in format_exception_as_a_whole\n",
      "    frames.append(self.format_record(r))\n",
      "                  ^^^^^^^^^^^^^^^^^^^^^\n",
      "  File \"C:\\Users\\Bogus_Kladik.NEW-PC\\AppData\\Roaming\\Python\\Python311\\site-packages\\IPython\\core\\ultratb.py\", line 730, in format_record\n",
      "    result += ''.join(_format_traceback_lines(frame_info.lines, Colors, self.has_colors, lvals))\n",
      "                                              ^^^^^^^^^^^^^^^^\n",
      "  File \"C:\\Users\\Bogus_Kladik.NEW-PC\\AppData\\Roaming\\Python\\Python311\\site-packages\\stack_data\\utils.py\", line 144, in cached_property_wrapper\n",
      "    value = obj.__dict__[self.func.__name__] = self.func(obj)\n",
      "                                               ^^^^^^^^^^^^^^\n",
      "  File \"C:\\Users\\Bogus_Kladik.NEW-PC\\AppData\\Roaming\\Python\\Python311\\site-packages\\stack_data\\core.py\", line 720, in lines\n",
      "    pieces = self.included_pieces\n",
      "             ^^^^^^^^^^^^^^^^^^^^\n",
      "  File \"C:\\Users\\Bogus_Kladik.NEW-PC\\AppData\\Roaming\\Python\\Python311\\site-packages\\stack_data\\utils.py\", line 144, in cached_property_wrapper\n",
      "    value = obj.__dict__[self.func.__name__] = self.func(obj)\n",
      "                                               ^^^^^^^^^^^^^^\n",
      "  File \"C:\\Users\\Bogus_Kladik.NEW-PC\\AppData\\Roaming\\Python\\Python311\\site-packages\\stack_data\\core.py\", line 667, in included_pieces\n",
      "    pos = scope_pieces.index(self.executing_piece)\n",
      "                             ^^^^^^^^^^^^^^^^^^^^\n",
      "  File \"C:\\Users\\Bogus_Kladik.NEW-PC\\AppData\\Roaming\\Python\\Python311\\site-packages\\stack_data\\utils.py\", line 144, in cached_property_wrapper\n",
      "    value = obj.__dict__[self.func.__name__] = self.func(obj)\n",
      "                                               ^^^^^^^^^^^^^^\n",
      "  File \"C:\\Users\\Bogus_Kladik.NEW-PC\\AppData\\Roaming\\Python\\Python311\\site-packages\\stack_data\\core.py\", line 646, in executing_piece\n",
      "    return only(\n",
      "           ^^^^^\n",
      "  File \"C:\\Users\\Bogus_Kladik.NEW-PC\\AppData\\Roaming\\Python\\Python311\\site-packages\\executing\\executing.py\", line 190, in only\n",
      "    raise NotOneValueFound('Expected one value, found 0')\n",
      "executing.executing.NotOneValueFound: Expected one value, found 0\n"
     ]
    }
   ],
   "source": [
    "monte_carlo_v1_integral = accuracy(lambda n: monte_carlo_v1(function(), interval(), n), solution(), RELATIVE_ERROR)\n",
    "\n",
    "print(f\"Значение интеграла методом монте карло версии 1 с относительной ошибкой {RELATIVE_ERROR * 100}% = {monte_carlo_v1_integral[0]}\\nКолличество узлов = {monte_carlo_v1_integral[1] - 1}\")\n",
    "\n",
    "print(\"\\n\")\n",
    "\n",
    "monte_carlo_v2_integral = accuracy(lambda n: monte_carlo_v2(function(), interval(), n), solution(), RELATIVE_ERROR)\n",
    "\n",
    "print(f\"Значение интеграла методом монте карло версии 2 с относительной ошибкой {RELATIVE_ERROR * 100}% = {monte_carlo_v2_integral[0]}\\nКолличество узлов = {monte_carlo_v2_integral[1] - 1}\")"
   ]
  },
  {
   "cell_type": "code",
   "execution_count": 7,
   "metadata": {},
   "outputs": [
    {
     "name": "stdout",
     "output_type": "stream",
     "text": [
      "\n",
      "\n"
     ]
    }
   ],
   "source": [
    "print(\"\\n\")\n",
    "\n",
    "monte_carlo_v2_integral = accuracy(lambda n: monte_carlo_v2(function(), interval(), n), solution(), RELATIVE_ERROR)\n",
    "\n",
    "print(f\"Значение интеграла методом монте карло версии 2 с относительной ошибкой {RELATIVE_ERROR * 100}% = {monte_carlo_v2_integral[0]}\\nКолличество узлов = {monte_carlo_v2_integral[1] - 1}\")"
   ]
  },
  {
   "cell_type": "code",
   "execution_count": 41,
   "metadata": {},
   "outputs": [
    {
     "name": "stdout",
     "output_type": "stream",
     "text": [
      "Среднеквадратичное отклонение для метода Монте-карло вариант 1: 0.69\n",
      "Среднеквадратичное отклонение для метода Монте-карло вариант 2: 1.14\n"
     ]
    }
   ],
   "source": [
    "print(f\"Среднеквадратичное отклонение для метода Монте-карло вариант 1: {round(np.std([monte_carlo_v1(function(), interval(), 100) for _ in range(100)]), 2)}\")\n",
    "\n",
    "print(f\"Среднеквадратичное отклонение для метода Монте-карло вариант 2: {round(np.std([monte_carlo_v2(function(), interval(), 100) for _ in range(100)]), 2)}\")"
   ]
  },
  {
   "cell_type": "code",
   "execution_count": 43,
   "metadata": {},
   "outputs": [
    {
     "name": "stdout",
     "output_type": "stream",
     "text": [
      "0.009079391891891952\n"
     ]
    }
   ],
   "source": [
    "print((9.0726328125 - 8.991) / 8.991)"
   ]
  }
 ],
 "metadata": {
  "kernelspec": {
   "display_name": "Python 3.11.0 64-bit",
   "language": "python",
   "name": "python3"
  },
  "language_info": {
   "codemirror_mode": {
    "name": "ipython",
    "version": 3
   },
   "file_extension": ".py",
   "mimetype": "text/x-python",
   "name": "python",
   "nbconvert_exporter": "python",
   "pygments_lexer": "ipython3",
   "version": "3.11.0 (main, Oct 24 2022, 18:26:48) [MSC v.1933 64 bit (AMD64)]"
  },
  "orig_nbformat": 4,
  "vscode": {
   "interpreter": {
    "hash": "5238573367df39f7286bb46f9ff5f08f63a01a80960060ce41e3c79b190280fa"
   }
  }
 },
 "nbformat": 4,
 "nbformat_minor": 2
}
