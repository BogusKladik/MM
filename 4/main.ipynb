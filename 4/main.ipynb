{
 "cells": [
  {
   "cell_type": "code",
   "execution_count": 22,
   "metadata": {},
   "outputs": [],
   "source": [
    "from condition import *\n",
    "from methods.monte_carlo import monte_carlo_v1, monte_carlo_v2\n",
    "from showing import show_function_with_interval\n",
    "from methods.trapezium import trapezium\n",
    "from accuracy import accuracy, accuracy_mc\n",
    "import numpy as np"
   ]
  },
  {
   "cell_type": "code",
   "execution_count": 23,
   "metadata": {},
   "outputs": [],
   "source": [
    "RELATIVE_ERROR = 0.01"
   ]
  },
  {
   "cell_type": "code",
   "execution_count": 24,
   "metadata": {},
   "outputs": [
    {
     "data": {
      "image/png": "[encoded data removed]",
      "text/plain": [
       "<Figure size 640x480 with 1 Axes>"
      ]
     },
     "metadata": {},
     "output_type": "display_data"
    }
   ],
   "source": [
    "show_function_with_interval(function(), interval())"
   ]
  },
  {
   "cell_type": "code",
   "execution_count": 25,
   "metadata": {},
   "outputs": [
    {
     "name": "stdout",
     "output_type": "stream",
     "text": [
      "Первообразная от x^2 = x^3/3\n",
      "Определенный интеграл в интервале от 0.3 до 3 = 8.991\n"
     ]
    }
   ],
   "source": [
    "print_solution()"
   ]
  },
  {
   "cell_type": "code",
   "execution_count": 26,
   "metadata": {},
   "outputs": [
    {
     "name": "stdout",
     "output_type": "stream",
     "text": [
      "Значение интеграла методом трапеций с относительной ошибкой 1.0% = 9.0726328125\n",
      "Колличество узлов = 7\n"
     ]
    }
   ],
   "source": [
    "trapezium_integral = accuracy(lambda n: trapezium(function(), interval(), n), solution(), RELATIVE_ERROR)\n",
    "\n",
    "print(f\"Значение интеграла методом трапеций с относительной ошибкой {RELATIVE_ERROR * 100}% = {trapezium_integral[0]}\\nКолличество узлов = {trapezium_integral[1] - 1}\")"
   ]
  },
  {
   "cell_type": "code",
   "execution_count": 27,
   "metadata": {},
   "outputs": [
    {
     "name": "stdout",
     "output_type": "stream",
     "text": [
      "Значение интеграла методом монте карло версии 1 с относительной ошибкой 1.0% = 9.010735434689574\n",
      "Колличество узлов = 2047\n",
      "\n",
      "\n",
      "Значение интеграла методом монте карло версии 2 с относительной ошибкой 1.0% = 9.021375\n",
      "Колличество узлов = 7\n"
     ]
    }
   ],
   "source": [
    "monte_carlo_v1_integral = accuracy(lambda n: monte_carlo_v1(function(), interval(), n), solution(), RELATIVE_ERROR)\n",
    "\n",
    "print(f\"Значение интеграла методом монте карло версии 1 с относительной ошибкой {RELATIVE_ERROR * 100}% = {monte_carlo_v1_integral[0]}\\nКолличество узлов = {monte_carlo_v1_integral[1] - 1}\")\n",
    "\n",
    "print(\"\\n\")\n",
    "\n",
    "monte_carlo_v2_integral = accuracy(lambda n: monte_carlo_v2(function(), interval(), n), solution(), RELATIVE_ERROR)\n",
    "\n",
    "print(f\"Значение интеграла методом монте карло версии 2 с относительной ошибкой {RELATIVE_ERROR * 100}% = {monte_carlo_v2_integral[0]}\\nКолличество узлов = {monte_carlo_v2_integral[1] - 1}\")"
   ]
  },
  {
   "cell_type": "code",
   "execution_count": 28,
   "metadata": {},
   "outputs": [
    {
     "name": "stdout",
     "output_type": "stream",
     "text": [
      "Среднеквадратичное отклонение для метода Монте-карло вариант 1: 0.8\n",
      "Среднеквадратичное отклонение для метода Монте-карло вариант 2: 1.19\n"
     ]
    }
   ],
   "source": [
    "print(f\"Среднеквадратичное отклонение для метода Монте-карло вариант 1: {round(np.std([monte_carlo_v1(function(), interval(), 100) for _ in range(100)]), 2)}\")\n",
    "\n",
    "print(f\"Среднеквадратичное отклонение для метода Монте-карло вариант 2: {round(np.std([monte_carlo_v2(function(), interval(), 100) for _ in range(100)]), 2)}\")"
   ]
  },
  {
   "cell_type": "code",
   "execution_count": 29,
   "metadata": {},
   "outputs": [
    {
     "name": "stdout",
     "output_type": "stream",
     "text": [
      "0.009079391891891952\n"
     ]
    }
   ],
   "source": [
    "print((9.0726328125 - 8.991) / 8.991)"
   ]
  },
  {
   "cell_type": "code",
   "execution_count": 30,
   "metadata": {},
   "outputs": [
    {
     "name": "stdout",
     "output_type": "stream",
     "text": [
      "Значение интеграла методом монте карло версии 2 с относительной ошибкой 1.0% = 8.730647094726564\n",
      "Колличество узлов = 16383\n"
     ]
    }
   ],
   "source": [
    "monte_carlo_v2_integral = accuracy_mc(lambda n: monte_carlo_v2(function(), interval(), n), RELATIVE_ERROR)\n",
    "\n",
    "print(f\"Значение интеграла методом монте карло версии 2 с относительной ошибкой {RELATIVE_ERROR * 100}% = {monte_carlo_v2_integral[0]}\\nКолличество узлов = {monte_carlo_v2_integral[1] - 1}\")"
   ]
  }
 ],
 "metadata": {
  "kernelspec": {
   "display_name": "Python 3.11.0 64-bit",
   "language": "python",
   "name": "python3"
  },
  "language_info": {
   "codemirror_mode": {
    "name": "ipython",
    "version": 3
   },
   "file_extension": ".py",
   "mimetype": "text/x-python",
   "name": "python",
   "nbconvert_exporter": "python",
   "pygments_lexer": "ipython3",
   "version": "3.11.0"
  },
  "orig_nbformat": 4,
  "vscode": {
   "interpreter": {
    "hash": "5238573367df39f7286bb46f9ff5f08f63a01a80960060ce41e3c79b190280fa"
   }
  }
 },
 "nbformat": 4,
 "nbformat_minor": 2
}
